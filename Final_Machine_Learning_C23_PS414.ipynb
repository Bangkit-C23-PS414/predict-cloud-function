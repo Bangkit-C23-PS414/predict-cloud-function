{
  "cells": [
    {
      "cell_type": "markdown",
      "metadata": {
        "id": "zl2q_M4LVcRA"
      },
      "source": [
        "# **A. Summary**\n",
        "\n",
        "This model is used to classify diseases based on input of coffee plant leaves to determine the presence or absence of diseases on the coffee plant leaves. By using this model, we can identify the specific disease affecting the coffee plant leaves.\n"
      ]
    },
    {
      "cell_type": "markdown",
      "metadata": {
        "id": "x8Xpl89w8iGN"
      },
      "source": [
        "# **B. How to Make the Model?**\n",
        "\n",
        "## i. Load Libraries\n",
        "\n",
        "1. Install or upgrade tensorflow_hub\n",
        "2. Load the libraries needed by using import\n",
        "\n",
        "## ii. Collect Data\n",
        "\n",
        "1. Prepare Kaggle Requirementsm, like your kaggle.json\n",
        "2. Collect dataset from kaggle.\n",
        "\n",
        "## iii. Preprocessing\n",
        "\n",
        "1. Creating training and validation folders.\n",
        "2. Splitting the dataset into training and validation data.\n",
        "3. Transforming an image file into a portrait.\n",
        "4. Checking the number of images for each class.\n",
        "\n",
        "### iv. Training Preparation\n",
        "\n",
        "1. Setting up the training and validation data directories\n",
        "2. Configuring the data generator with data augmentation for the training data.\n",
        "\n",
        "### v. Modelling Process and Save the model\n",
        "\n",
        "1. Define the model. In this scoop, the model uses:\n",
        "  - 1 layer of KerasLayer (Transfer Learning),\n",
        "  - 1 layers of Keras Flatten layer, and\n",
        "  - 1 layers of Keras Dense layer.\n",
        "\n",
        " The activation function used tranfer learning. And the activation function for the last Keras Dense layer is different (`softmax`) is used to do multi-class classification.\n",
        "\n",
        "2. Define the callbacks that are going to be used. The callback is used to get the notification that the accuracy has reached the threshold of the accuracy. After the threshold has reached, this callback will stop the training process.\n",
        "\n",
        "3. Compile the model. The loss function used in this model is the `SparseCategoricalCrossentropy`. To fit this model better, the \"Adaptive Moment Estimation\" (`Adam`) is used for optimization and `accuracy` as the metric.\n",
        "\n",
        "4. Fit the model with the epoch of 10 (maximum) and test set as validation data.\n",
        "\n",
        "5. Save the best model into .h5 for retraining or just to load and make some predictions with the model in callbacks.\n",
        "\n",
        "### vi. Evaluation\n",
        "\n",
        "1. Plot the accuracy of the model in the epoch. The plot is for accuracy of both the train set and the test set. After plotting, check the graph. Does the accuracy continue to increase or keep decreasing? If it continues to increase, then the model is well-fit.\n",
        "\n",
        "2. Plot the loss of the model in the epoch. As the opposite of accuracy, the plot is for loss of both the train set and the test set should decrease in each epoch. After plotting, check the graph. Does the loss continue to decrease or keep increasing? If it continues to decrease, then the model is well-fit."
      ]
    },
    {
      "cell_type": "markdown",
      "metadata": {
        "id": "_FMa0K1iT7oK"
      },
      "source": [
        "# **Load Libraries**\n",
        "\n",
        "Load the libraries needed by using import"
      ]
    },
    {
      "cell_type": "code",
      "execution_count": 1,
      "metadata": {
        "colab": {
          "base_uri": "https://localhost:8080/"
        },
        "id": "MrsTJsdZCt7v",
        "outputId": "5e0df6a8-62c9-4950-9bee-75a5f8d04903"
      },
      "outputs": [
        {
          "output_type": "stream",
          "name": "stdout",
          "text": [
            "Looking in indexes: https://pypi.org/simple, https://us-python.pkg.dev/colab-wheels/public/simple/\n",
            "Requirement already satisfied: tensorflow_hub in /usr/local/lib/python3.10/dist-packages (0.13.0)\n",
            "Requirement already satisfied: numpy>=1.12.0 in /usr/local/lib/python3.10/dist-packages (from tensorflow_hub) (1.22.4)\n",
            "Requirement already satisfied: protobuf>=3.19.6 in /usr/local/lib/python3.10/dist-packages (from tensorflow_hub) (3.20.3)\n"
          ]
        }
      ],
      "source": [
        "!pip install --upgrade tensorflow_hub"
      ]
    },
    {
      "cell_type": "code",
      "execution_count": 2,
      "metadata": {
        "id": "JhPSr0fE8NAJ"
      },
      "outputs": [],
      "source": [
        "from PIL import Image\n",
        "from tensorflow.keras.callbacks import ModelCheckpoint, EarlyStopping\n",
        "from tensorflow.keras.preprocessing.image import ImageDataGenerator\n",
        "\n",
        "import cv2\n",
        "import os\n",
        "import pandas as pd\n",
        "import random\n",
        "import shutil\n",
        "import tensorflow as tf\n",
        "import tensorflow_hub as hub\n",
        "import zipfile"
      ]
    },
    {
      "cell_type": "markdown",
      "metadata": {
        "id": "4O-mlsw9n46n"
      },
      "source": [
        "# **Collect Data**\n",
        "\n",
        "Collecting dataset from the source and storing it in a directory to be used for future modeling processes."
      ]
    },
    {
      "cell_type": "markdown",
      "metadata": {
        "id": "haPJYS8Tn7oc"
      },
      "source": [
        "## **Prepare Kaggle Requirements**\n",
        "\n",
        "Don't forget to prepare your kaggle.json"
      ]
    },
    {
      "cell_type": "code",
      "execution_count": 3,
      "metadata": {
        "colab": {
          "base_uri": "https://localhost:8080/"
        },
        "id": "LQHHbNmGn74f",
        "outputId": "23dfabb9-ee63-4817-a2be-e16b56620ad3"
      },
      "outputs": [
        {
          "output_type": "stream",
          "name": "stdout",
          "text": [
            "Looking in indexes: https://pypi.org/simple, https://us-python.pkg.dev/colab-wheels/public/simple/\n",
            "Requirement already satisfied: kaggle in /usr/local/lib/python3.10/dist-packages (1.5.13)\n",
            "Requirement already satisfied: six>=1.10 in /usr/local/lib/python3.10/dist-packages (from kaggle) (1.16.0)\n",
            "Requirement already satisfied: certifi in /usr/local/lib/python3.10/dist-packages (from kaggle) (2022.12.7)\n",
            "Requirement already satisfied: python-dateutil in /usr/local/lib/python3.10/dist-packages (from kaggle) (2.8.2)\n",
            "Requirement already satisfied: requests in /usr/local/lib/python3.10/dist-packages (from kaggle) (2.27.1)\n",
            "Requirement already satisfied: tqdm in /usr/local/lib/python3.10/dist-packages (from kaggle) (4.65.0)\n",
            "Requirement already satisfied: python-slugify in /usr/local/lib/python3.10/dist-packages (from kaggle) (8.0.1)\n",
            "Requirement already satisfied: urllib3 in /usr/local/lib/python3.10/dist-packages (from kaggle) (1.26.15)\n",
            "Requirement already satisfied: text-unidecode>=1.3 in /usr/local/lib/python3.10/dist-packages (from python-slugify->kaggle) (1.3)\n",
            "Requirement already satisfied: charset-normalizer~=2.0.0 in /usr/local/lib/python3.10/dist-packages (from requests->kaggle) (2.0.12)\n",
            "Requirement already satisfied: idna<4,>=2.5 in /usr/local/lib/python3.10/dist-packages (from requests->kaggle) (3.4)\n"
          ]
        }
      ],
      "source": [
        "! pip install kaggle"
      ]
    },
    {
      "cell_type": "code",
      "execution_count": 4,
      "metadata": {
        "id": "fEOgYsw_opEm"
      },
      "outputs": [],
      "source": [
        "! mkdir ~/.kaggle"
      ]
    },
    {
      "cell_type": "code",
      "execution_count": 5,
      "metadata": {
        "id": "fgIy4qRpop6M"
      },
      "outputs": [],
      "source": [
        "! cp kaggle.json ~/.kaggle/"
      ]
    },
    {
      "cell_type": "code",
      "execution_count": 6,
      "metadata": {
        "id": "GZYtaqH9ovQe"
      },
      "outputs": [],
      "source": [
        "! chmod 600 ~/.kaggle/kaggle.json"
      ]
    },
    {
      "cell_type": "markdown",
      "metadata": {
        "id": "OWdIkbA3F8km"
      },
      "source": [
        "## **Dataset**\n",
        "\n",
        "Collect dataset from kaggle."
      ]
    },
    {
      "cell_type": "markdown",
      "metadata": {
        "id": "o41vXZL-ygHO"
      },
      "source": [
        "### **Dataset From alvarole**\n",
        "\n",
        "First dataset from https://www.kaggle.com/datasets/alvarole/coffee-leaves-disease"
      ]
    },
    {
      "cell_type": "code",
      "execution_count": 7,
      "metadata": {
        "colab": {
          "base_uri": "https://localhost:8080/"
        },
        "id": "zHp-6oNoo0OE",
        "outputId": "fabafbef-1228-4967-9a55-adcd50aeb191"
      },
      "outputs": [
        {
          "output_type": "stream",
          "name": "stdout",
          "text": [
            "Downloading coffee-leaves-disease.zip to /content\n",
            " 99% 1.39G/1.40G [00:16<00:00, 103MB/s] \n",
            "100% 1.40G/1.40G [00:16<00:00, 89.8MB/s]\n"
          ]
        }
      ],
      "source": [
        "! kaggle datasets download alvarole/coffee-leaves-disease"
      ]
    },
    {
      "cell_type": "code",
      "execution_count": 8,
      "metadata": {
        "id": "8QtSAT5bo-lQ"
      },
      "outputs": [],
      "source": [
        "zip_ref = zipfile.ZipFile('/content/coffee-leaves-disease.zip', 'r')\n",
        "zip_ref.extractall('/content/alvarole')\n",
        "\n",
        "zip_ref.close()"
      ]
    },
    {
      "cell_type": "code",
      "execution_count": 9,
      "metadata": {
        "id": "rg4V7R7Npplw"
      },
      "outputs": [],
      "source": [
        "alvarole_directories = ['/content/alvarole/miner_img_xml', '/content/alvarole/rust_xml_image']\n",
        "\n",
        "for directory in alvarole_directories:\n",
        "  for filename in os.listdir(directory):\n",
        "      old_path = os.path.join(directory, filename)\n",
        "      if os.path.isfile(old_path):\n",
        "        if (old_path[-3:] == 'xml'):\n",
        "          os.remove(old_path)"
      ]
    },
    {
      "cell_type": "markdown",
      "metadata": {
        "id": "YLRV8gPyoW5x"
      },
      "source": [
        "### **Dataset From badasstechie**\n",
        "\n",
        "First dataset from https://www.kaggle.com/datasets/badasstechie/coffee-leaf-diseases"
      ]
    },
    {
      "cell_type": "markdown",
      "metadata": {
        "id": "PC7d5IVjp-se"
      },
      "source": [
        "#### **Make Directory**\n",
        "\n",
        "Create a directory in the google drive to save the dataset."
      ]
    },
    {
      "cell_type": "code",
      "execution_count": 10,
      "metadata": {
        "id": "J4I66WAyqAvr"
      },
      "outputs": [],
      "source": [
        "directories = ['healthy', 'miner', 'phoma', 'rust']\n",
        "parent_dir = \"/content/datasets\"\n",
        "\n",
        "for directory in directories:\n",
        "  path = os.path.join(parent_dir, directory)\n",
        "  if os.path.exists(path):\n",
        "    shutil.rmtree(path)\n",
        "  os.makedirs(path)"
      ]
    },
    {
      "cell_type": "code",
      "execution_count": 11,
      "metadata": {
        "colab": {
          "base_uri": "https://localhost:8080/"
        },
        "id": "31MKgNp4oW5y",
        "outputId": "a8148ba7-1f6f-4ad6-9239-b7c1d7870083"
      },
      "outputs": [
        {
          "output_type": "stream",
          "name": "stdout",
          "text": [
            "Downloading coffee-leaf-diseases.zip to /content\n",
            " 94% 183M/196M [00:02<00:00, 82.0MB/s]\n",
            "100% 196M/196M [00:02<00:00, 70.5MB/s]\n"
          ]
        }
      ],
      "source": [
        "! kaggle datasets download badasstechie/coffee-leaf-diseases"
      ]
    },
    {
      "cell_type": "code",
      "execution_count": 12,
      "metadata": {
        "id": "MEW04hG4oW5y"
      },
      "outputs": [],
      "source": [
        "zip_ref = zipfile.ZipFile('/content/coffee-leaf-diseases.zip', 'r')\n",
        "zip_ref.extractall('/content/badasstechie')\n",
        "\n",
        "zip_ref.close()"
      ]
    },
    {
      "cell_type": "code",
      "execution_count": 13,
      "metadata": {
        "colab": {
          "base_uri": "https://localhost:8080/",
          "height": 424
        },
        "id": "AICUj2Ld2wwv",
        "outputId": "cdb3ac36-f7fc-4711-cd52-0e162c812d4d"
      },
      "outputs": [
        {
          "output_type": "execute_result",
          "data": {
            "text/plain": [
              "        id  miner  rust  phoma\n",
              "0        0      0     0      0\n",
              "1        1      0     0      0\n",
              "2        2      0     0      0\n",
              "3        3      0     0      0\n",
              "4        4      0     0      0\n",
              "...    ...    ...   ...    ...\n",
              "1259  1595      0     1      0\n",
              "1260  1596      0     1      0\n",
              "1261  1597      0     1      0\n",
              "1262  1598      0     1      0\n",
              "1263  1599      0     1      0\n",
              "\n",
              "[1264 rows x 4 columns]"
            ],
            "text/html": [
              "\n",
              "  <div id=\"df-721ee167-9e89-40bc-8c19-5901269be7e8\">\n",
              "    <div class=\"colab-df-container\">\n",
              "      <div>\n",
              "<style scoped>\n",
              "    .dataframe tbody tr th:only-of-type {\n",
              "        vertical-align: middle;\n",
              "    }\n",
              "\n",
              "    .dataframe tbody tr th {\n",
              "        vertical-align: top;\n",
              "    }\n",
              "\n",
              "    .dataframe thead th {\n",
              "        text-align: right;\n",
              "    }\n",
              "</style>\n",
              "<table border=\"1\" class=\"dataframe\">\n",
              "  <thead>\n",
              "    <tr style=\"text-align: right;\">\n",
              "      <th></th>\n",
              "      <th>id</th>\n",
              "      <th>miner</th>\n",
              "      <th>rust</th>\n",
              "      <th>phoma</th>\n",
              "    </tr>\n",
              "  </thead>\n",
              "  <tbody>\n",
              "    <tr>\n",
              "      <th>0</th>\n",
              "      <td>0</td>\n",
              "      <td>0</td>\n",
              "      <td>0</td>\n",
              "      <td>0</td>\n",
              "    </tr>\n",
              "    <tr>\n",
              "      <th>1</th>\n",
              "      <td>1</td>\n",
              "      <td>0</td>\n",
              "      <td>0</td>\n",
              "      <td>0</td>\n",
              "    </tr>\n",
              "    <tr>\n",
              "      <th>2</th>\n",
              "      <td>2</td>\n",
              "      <td>0</td>\n",
              "      <td>0</td>\n",
              "      <td>0</td>\n",
              "    </tr>\n",
              "    <tr>\n",
              "      <th>3</th>\n",
              "      <td>3</td>\n",
              "      <td>0</td>\n",
              "      <td>0</td>\n",
              "      <td>0</td>\n",
              "    </tr>\n",
              "    <tr>\n",
              "      <th>4</th>\n",
              "      <td>4</td>\n",
              "      <td>0</td>\n",
              "      <td>0</td>\n",
              "      <td>0</td>\n",
              "    </tr>\n",
              "    <tr>\n",
              "      <th>...</th>\n",
              "      <td>...</td>\n",
              "      <td>...</td>\n",
              "      <td>...</td>\n",
              "      <td>...</td>\n",
              "    </tr>\n",
              "    <tr>\n",
              "      <th>1259</th>\n",
              "      <td>1595</td>\n",
              "      <td>0</td>\n",
              "      <td>1</td>\n",
              "      <td>0</td>\n",
              "    </tr>\n",
              "    <tr>\n",
              "      <th>1260</th>\n",
              "      <td>1596</td>\n",
              "      <td>0</td>\n",
              "      <td>1</td>\n",
              "      <td>0</td>\n",
              "    </tr>\n",
              "    <tr>\n",
              "      <th>1261</th>\n",
              "      <td>1597</td>\n",
              "      <td>0</td>\n",
              "      <td>1</td>\n",
              "      <td>0</td>\n",
              "    </tr>\n",
              "    <tr>\n",
              "      <th>1262</th>\n",
              "      <td>1598</td>\n",
              "      <td>0</td>\n",
              "      <td>1</td>\n",
              "      <td>0</td>\n",
              "    </tr>\n",
              "    <tr>\n",
              "      <th>1263</th>\n",
              "      <td>1599</td>\n",
              "      <td>0</td>\n",
              "      <td>1</td>\n",
              "      <td>0</td>\n",
              "    </tr>\n",
              "  </tbody>\n",
              "</table>\n",
              "<p>1264 rows × 4 columns</p>\n",
              "</div>\n",
              "      <button class=\"colab-df-convert\" onclick=\"convertToInteractive('df-721ee167-9e89-40bc-8c19-5901269be7e8')\"\n",
              "              title=\"Convert this dataframe to an interactive table.\"\n",
              "              style=\"display:none;\">\n",
              "        \n",
              "  <svg xmlns=\"http://www.w3.org/2000/svg\" height=\"24px\"viewBox=\"0 0 24 24\"\n",
              "       width=\"24px\">\n",
              "    <path d=\"M0 0h24v24H0V0z\" fill=\"none\"/>\n",
              "    <path d=\"M18.56 5.44l.94 2.06.94-2.06 2.06-.94-2.06-.94-.94-2.06-.94 2.06-2.06.94zm-11 1L8.5 8.5l.94-2.06 2.06-.94-2.06-.94L8.5 2.5l-.94 2.06-2.06.94zm10 10l.94 2.06.94-2.06 2.06-.94-2.06-.94-.94-2.06-.94 2.06-2.06.94z\"/><path d=\"M17.41 7.96l-1.37-1.37c-.4-.4-.92-.59-1.43-.59-.52 0-1.04.2-1.43.59L10.3 9.45l-7.72 7.72c-.78.78-.78 2.05 0 2.83L4 21.41c.39.39.9.59 1.41.59.51 0 1.02-.2 1.41-.59l7.78-7.78 2.81-2.81c.8-.78.8-2.07 0-2.86zM5.41 20L4 18.59l7.72-7.72 1.47 1.35L5.41 20z\"/>\n",
              "  </svg>\n",
              "      </button>\n",
              "      \n",
              "  <style>\n",
              "    .colab-df-container {\n",
              "      display:flex;\n",
              "      flex-wrap:wrap;\n",
              "      gap: 12px;\n",
              "    }\n",
              "\n",
              "    .colab-df-convert {\n",
              "      background-color: #E8F0FE;\n",
              "      border: none;\n",
              "      border-radius: 50%;\n",
              "      cursor: pointer;\n",
              "      display: none;\n",
              "      fill: #1967D2;\n",
              "      height: 32px;\n",
              "      padding: 0 0 0 0;\n",
              "      width: 32px;\n",
              "    }\n",
              "\n",
              "    .colab-df-convert:hover {\n",
              "      background-color: #E2EBFA;\n",
              "      box-shadow: 0px 1px 2px rgba(60, 64, 67, 0.3), 0px 1px 3px 1px rgba(60, 64, 67, 0.15);\n",
              "      fill: #174EA6;\n",
              "    }\n",
              "\n",
              "    [theme=dark] .colab-df-convert {\n",
              "      background-color: #3B4455;\n",
              "      fill: #D2E3FC;\n",
              "    }\n",
              "\n",
              "    [theme=dark] .colab-df-convert:hover {\n",
              "      background-color: #434B5C;\n",
              "      box-shadow: 0px 1px 3px 1px rgba(0, 0, 0, 0.15);\n",
              "      filter: drop-shadow(0px 1px 2px rgba(0, 0, 0, 0.3));\n",
              "      fill: #FFFFFF;\n",
              "    }\n",
              "  </style>\n",
              "\n",
              "      <script>\n",
              "        const buttonEl =\n",
              "          document.querySelector('#df-721ee167-9e89-40bc-8c19-5901269be7e8 button.colab-df-convert');\n",
              "        buttonEl.style.display =\n",
              "          google.colab.kernel.accessAllowed ? 'block' : 'none';\n",
              "\n",
              "        async function convertToInteractive(key) {\n",
              "          const element = document.querySelector('#df-721ee167-9e89-40bc-8c19-5901269be7e8');\n",
              "          const dataTable =\n",
              "            await google.colab.kernel.invokeFunction('convertToInteractive',\n",
              "                                                     [key], {});\n",
              "          if (!dataTable) return;\n",
              "\n",
              "          const docLinkHtml = 'Like what you see? Visit the ' +\n",
              "            '<a target=\"_blank\" href=https://colab.research.google.com/notebooks/data_table.ipynb>data table notebook</a>'\n",
              "            + ' to learn more about interactive tables.';\n",
              "          element.innerHTML = '';\n",
              "          dataTable['output_type'] = 'display_data';\n",
              "          await google.colab.output.renderOutput(dataTable, element);\n",
              "          const docLink = document.createElement('div');\n",
              "          docLink.innerHTML = docLinkHtml;\n",
              "          element.appendChild(docLink);\n",
              "        }\n",
              "      </script>\n",
              "    </div>\n",
              "  </div>\n",
              "  "
            ]
          },
          "metadata": {},
          "execution_count": 13
        }
      ],
      "source": [
        "train_df = pd.read_csv('/content/badasstechie/train_classes.csv')\n",
        "train_df"
      ]
    },
    {
      "cell_type": "code",
      "execution_count": 14,
      "metadata": {
        "id": "jbW8L_s7CcH5"
      },
      "outputs": [],
      "source": [
        "for index, row in train_df.iterrows():\n",
        "  folder_path = '/content/badasstechie/coffee-leaf-diseases/train/images'\n",
        "  filename = str(row['id']) + '.jpg'\n",
        "  old_path = os.path.join(folder_path, filename)\n",
        "  if os.path.isfile(old_path):\n",
        "    if (row['miner'] == 1):\n",
        "      new_path = '/content/datasets/miner/' + filename\n",
        "    if (row['rust'] == 1):\n",
        "      new_path = '/content/datasets/rust/' + filename\n",
        "    if (row['phoma'] == 1):\n",
        "      new_path = '/content/datasets/phoma/' + filename\n",
        "    if(row['phoma'] == 0 and row['miner'] == 0 and row['rust'] == 0):\n",
        "      new_path = '/content/datasets/healthy/' + filename\n",
        "    shutil.move(old_path, new_path)"
      ]
    },
    {
      "cell_type": "code",
      "execution_count": 15,
      "metadata": {
        "colab": {
          "base_uri": "https://localhost:8080/",
          "height": 424
        },
        "id": "U1uJ7xSv1jcj",
        "outputId": "f02dbb8d-e38c-4d6e-fe7a-0aecea064f40"
      },
      "outputs": [
        {
          "output_type": "execute_result",
          "data": {
            "text/plain": [
              "       id  miner  rust  phoma\n",
              "0      64      1     0      0\n",
              "1      65      1     0      0\n",
              "2      66      1     0      0\n",
              "3      67      1     0      0\n",
              "4      68      1     0      0\n",
              "..    ...    ...   ...    ...\n",
              "395  1659      0     0      0\n",
              "396  1660      0     1      0\n",
              "397  1661      0     1      0\n",
              "398  1662      0     1      0\n",
              "399  1663      0     1      0\n",
              "\n",
              "[400 rows x 4 columns]"
            ],
            "text/html": [
              "\n",
              "  <div id=\"df-e6e7c19f-f151-43e5-9df3-538296ed801c\">\n",
              "    <div class=\"colab-df-container\">\n",
              "      <div>\n",
              "<style scoped>\n",
              "    .dataframe tbody tr th:only-of-type {\n",
              "        vertical-align: middle;\n",
              "    }\n",
              "\n",
              "    .dataframe tbody tr th {\n",
              "        vertical-align: top;\n",
              "    }\n",
              "\n",
              "    .dataframe thead th {\n",
              "        text-align: right;\n",
              "    }\n",
              "</style>\n",
              "<table border=\"1\" class=\"dataframe\">\n",
              "  <thead>\n",
              "    <tr style=\"text-align: right;\">\n",
              "      <th></th>\n",
              "      <th>id</th>\n",
              "      <th>miner</th>\n",
              "      <th>rust</th>\n",
              "      <th>phoma</th>\n",
              "    </tr>\n",
              "  </thead>\n",
              "  <tbody>\n",
              "    <tr>\n",
              "      <th>0</th>\n",
              "      <td>64</td>\n",
              "      <td>1</td>\n",
              "      <td>0</td>\n",
              "      <td>0</td>\n",
              "    </tr>\n",
              "    <tr>\n",
              "      <th>1</th>\n",
              "      <td>65</td>\n",
              "      <td>1</td>\n",
              "      <td>0</td>\n",
              "      <td>0</td>\n",
              "    </tr>\n",
              "    <tr>\n",
              "      <th>2</th>\n",
              "      <td>66</td>\n",
              "      <td>1</td>\n",
              "      <td>0</td>\n",
              "      <td>0</td>\n",
              "    </tr>\n",
              "    <tr>\n",
              "      <th>3</th>\n",
              "      <td>67</td>\n",
              "      <td>1</td>\n",
              "      <td>0</td>\n",
              "      <td>0</td>\n",
              "    </tr>\n",
              "    <tr>\n",
              "      <th>4</th>\n",
              "      <td>68</td>\n",
              "      <td>1</td>\n",
              "      <td>0</td>\n",
              "      <td>0</td>\n",
              "    </tr>\n",
              "    <tr>\n",
              "      <th>...</th>\n",
              "      <td>...</td>\n",
              "      <td>...</td>\n",
              "      <td>...</td>\n",
              "      <td>...</td>\n",
              "    </tr>\n",
              "    <tr>\n",
              "      <th>395</th>\n",
              "      <td>1659</td>\n",
              "      <td>0</td>\n",
              "      <td>0</td>\n",
              "      <td>0</td>\n",
              "    </tr>\n",
              "    <tr>\n",
              "      <th>396</th>\n",
              "      <td>1660</td>\n",
              "      <td>0</td>\n",
              "      <td>1</td>\n",
              "      <td>0</td>\n",
              "    </tr>\n",
              "    <tr>\n",
              "      <th>397</th>\n",
              "      <td>1661</td>\n",
              "      <td>0</td>\n",
              "      <td>1</td>\n",
              "      <td>0</td>\n",
              "    </tr>\n",
              "    <tr>\n",
              "      <th>398</th>\n",
              "      <td>1662</td>\n",
              "      <td>0</td>\n",
              "      <td>1</td>\n",
              "      <td>0</td>\n",
              "    </tr>\n",
              "    <tr>\n",
              "      <th>399</th>\n",
              "      <td>1663</td>\n",
              "      <td>0</td>\n",
              "      <td>1</td>\n",
              "      <td>0</td>\n",
              "    </tr>\n",
              "  </tbody>\n",
              "</table>\n",
              "<p>400 rows × 4 columns</p>\n",
              "</div>\n",
              "      <button class=\"colab-df-convert\" onclick=\"convertToInteractive('df-e6e7c19f-f151-43e5-9df3-538296ed801c')\"\n",
              "              title=\"Convert this dataframe to an interactive table.\"\n",
              "              style=\"display:none;\">\n",
              "        \n",
              "  <svg xmlns=\"http://www.w3.org/2000/svg\" height=\"24px\"viewBox=\"0 0 24 24\"\n",
              "       width=\"24px\">\n",
              "    <path d=\"M0 0h24v24H0V0z\" fill=\"none\"/>\n",
              "    <path d=\"M18.56 5.44l.94 2.06.94-2.06 2.06-.94-2.06-.94-.94-2.06-.94 2.06-2.06.94zm-11 1L8.5 8.5l.94-2.06 2.06-.94-2.06-.94L8.5 2.5l-.94 2.06-2.06.94zm10 10l.94 2.06.94-2.06 2.06-.94-2.06-.94-.94-2.06-.94 2.06-2.06.94z\"/><path d=\"M17.41 7.96l-1.37-1.37c-.4-.4-.92-.59-1.43-.59-.52 0-1.04.2-1.43.59L10.3 9.45l-7.72 7.72c-.78.78-.78 2.05 0 2.83L4 21.41c.39.39.9.59 1.41.59.51 0 1.02-.2 1.41-.59l7.78-7.78 2.81-2.81c.8-.78.8-2.07 0-2.86zM5.41 20L4 18.59l7.72-7.72 1.47 1.35L5.41 20z\"/>\n",
              "  </svg>\n",
              "      </button>\n",
              "      \n",
              "  <style>\n",
              "    .colab-df-container {\n",
              "      display:flex;\n",
              "      flex-wrap:wrap;\n",
              "      gap: 12px;\n",
              "    }\n",
              "\n",
              "    .colab-df-convert {\n",
              "      background-color: #E8F0FE;\n",
              "      border: none;\n",
              "      border-radius: 50%;\n",
              "      cursor: pointer;\n",
              "      display: none;\n",
              "      fill: #1967D2;\n",
              "      height: 32px;\n",
              "      padding: 0 0 0 0;\n",
              "      width: 32px;\n",
              "    }\n",
              "\n",
              "    .colab-df-convert:hover {\n",
              "      background-color: #E2EBFA;\n",
              "      box-shadow: 0px 1px 2px rgba(60, 64, 67, 0.3), 0px 1px 3px 1px rgba(60, 64, 67, 0.15);\n",
              "      fill: #174EA6;\n",
              "    }\n",
              "\n",
              "    [theme=dark] .colab-df-convert {\n",
              "      background-color: #3B4455;\n",
              "      fill: #D2E3FC;\n",
              "    }\n",
              "\n",
              "    [theme=dark] .colab-df-convert:hover {\n",
              "      background-color: #434B5C;\n",
              "      box-shadow: 0px 1px 3px 1px rgba(0, 0, 0, 0.15);\n",
              "      filter: drop-shadow(0px 1px 2px rgba(0, 0, 0, 0.3));\n",
              "      fill: #FFFFFF;\n",
              "    }\n",
              "  </style>\n",
              "\n",
              "      <script>\n",
              "        const buttonEl =\n",
              "          document.querySelector('#df-e6e7c19f-f151-43e5-9df3-538296ed801c button.colab-df-convert');\n",
              "        buttonEl.style.display =\n",
              "          google.colab.kernel.accessAllowed ? 'block' : 'none';\n",
              "\n",
              "        async function convertToInteractive(key) {\n",
              "          const element = document.querySelector('#df-e6e7c19f-f151-43e5-9df3-538296ed801c');\n",
              "          const dataTable =\n",
              "            await google.colab.kernel.invokeFunction('convertToInteractive',\n",
              "                                                     [key], {});\n",
              "          if (!dataTable) return;\n",
              "\n",
              "          const docLinkHtml = 'Like what you see? Visit the ' +\n",
              "            '<a target=\"_blank\" href=https://colab.research.google.com/notebooks/data_table.ipynb>data table notebook</a>'\n",
              "            + ' to learn more about interactive tables.';\n",
              "          element.innerHTML = '';\n",
              "          dataTable['output_type'] = 'display_data';\n",
              "          await google.colab.output.renderOutput(dataTable, element);\n",
              "          const docLink = document.createElement('div');\n",
              "          docLink.innerHTML = docLinkHtml;\n",
              "          element.appendChild(docLink);\n",
              "        }\n",
              "      </script>\n",
              "    </div>\n",
              "  </div>\n",
              "  "
            ]
          },
          "metadata": {},
          "execution_count": 15
        }
      ],
      "source": [
        "test_df = pd.read_csv('/content/badasstechie/test_classes.csv')\n",
        "test_df"
      ]
    },
    {
      "cell_type": "code",
      "execution_count": 16,
      "metadata": {
        "id": "_RVQrOqduIms"
      },
      "outputs": [],
      "source": [
        "for index, row in test_df.iterrows():\n",
        "  folder_path = '/content/badasstechie/coffee-leaf-diseases/test/images'\n",
        "  filename = str(row['id']) + '.jpg'\n",
        "  old_path = os.path.join(folder_path, filename)\n",
        "  if os.path.isfile(old_path):\n",
        "    if (row['miner'] == 1):\n",
        "      new_path = '/content/datasets/miner/' + filename\n",
        "    if (row['rust'] == 1):\n",
        "      new_path = '/content/datasets/rust/' + filename\n",
        "    if (row['phoma'] == 1):\n",
        "      new_path = '/content/datasets/phoma/' + filename\n",
        "    if(row['phoma'] == 0 and row['miner'] == 0 and row['rust'] == 0):\n",
        "      new_path = '/content/datasets/healthy/' + filename\n",
        "    shutil.move(old_path, new_path)"
      ]
    },
    {
      "cell_type": "markdown",
      "metadata": {
        "id": "XEeKcFKlofG8"
      },
      "source": [
        "# **Preprocessing**\n",
        "\n",
        "Since the data in the dataset is raw, we need to process it before it can be effectively utilized. To obtain the best model, we must provide it with well-processed data, rather than raw data."
      ]
    },
    {
      "cell_type": "code",
      "execution_count": 17,
      "metadata": {
        "id": "KFP5ylizA_Cw"
      },
      "outputs": [],
      "source": [
        "import shutil\n",
        "\n",
        "# Define root directory\n",
        "root_dir = '/content/datasets/final'\n",
        "\n",
        "# Empty directory to prevent FileExistsError is the function is run several times\n",
        "if os.path.exists(root_dir):\n",
        "  shutil.rmtree(root_dir)\n",
        "\n",
        "def create_train_val_dirs(root_path):\n",
        "  \"\"\"\n",
        "  Creates directories for the train and test sets\n",
        "\n",
        "  Args:\n",
        "    root_path (string) - the base directory path to create subdirectories from\n",
        "\n",
        "  Returns:\n",
        "    None\n",
        "  \"\"\"\n",
        "  os.makedirs(os.path.join(root_dir, 'training', 'healthy'))\n",
        "  os.makedirs(os.path.join(root_dir, 'training', 'miner'))\n",
        "  os.makedirs(os.path.join(root_dir, 'training', 'phoma'))\n",
        "  os.makedirs(os.path.join(root_dir, 'training', 'rust'))\n",
        "  os.makedirs(os.path.join(root_dir, 'validation', 'healthy'))\n",
        "  os.makedirs(os.path.join(root_dir, 'validation', 'miner'))\n",
        "  os.makedirs(os.path.join(root_dir, 'validation', 'phoma'))\n",
        "  os.makedirs(os.path.join(root_dir, 'validation', 'rust'))\n",
        "\n",
        "try:\n",
        "  create_train_val_dirs(root_path=root_dir)\n",
        "except FileExistsError:\n",
        "  print(\"You should not be seeing this since the upper directory is removed beforehand\")"
      ]
    },
    {
      "cell_type": "code",
      "execution_count": 18,
      "metadata": {
        "colab": {
          "base_uri": "https://localhost:8080/"
        },
        "id": "0L6Aril1BgQC",
        "outputId": "683dc263-5c88-4ef5-8762-7ef9aa4d89bb"
      },
      "outputs": [
        {
          "output_type": "stream",
          "name": "stdout",
          "text": [
            "/content/datasets/final/training\n",
            "/content/datasets/final/validation\n",
            "/content/datasets/final/training/rust\n",
            "/content/datasets/final/training/phoma\n",
            "/content/datasets/final/training/healthy\n",
            "/content/datasets/final/training/miner\n",
            "/content/datasets/final/validation/rust\n",
            "/content/datasets/final/validation/phoma\n",
            "/content/datasets/final/validation/healthy\n",
            "/content/datasets/final/validation/miner\n"
          ]
        }
      ],
      "source": [
        "for rootdir, dirs, files in os.walk(root_dir):\n",
        "    for subdir in dirs:\n",
        "        print(os.path.join(rootdir, subdir))"
      ]
    },
    {
      "cell_type": "code",
      "execution_count": 19,
      "metadata": {
        "id": "PmR85w_ZCwqf"
      },
      "outputs": [],
      "source": [
        "import random\n",
        "\n",
        "def split_data(SOURCE_DIR, TRAINING_DIR, VALIDATION_DIR, SPLIT_SIZE):\n",
        "  \"\"\"\n",
        "  Splits the data into train and test sets\n",
        "\n",
        "  Args:\n",
        "    SOURCE_DIR (string): directory path containing the images\n",
        "    TRAINING_DIR (string): directory path to be used for training\n",
        "    VALIDATION_DIR (string): directory path to be used for validation\n",
        "    SPLIT_SIZE (float): proportion of the dataset to be used for training\n",
        "\n",
        "  Returns:\n",
        "    None\n",
        "  \"\"\"\n",
        "  files = os.listdir(SOURCE_DIR)\n",
        "  random.shuffle(files)\n",
        "\n",
        "  num_training = int(len(files) * SPLIT_SIZE)\n",
        "\n",
        "  for i, file in enumerate(files):\n",
        "    source_file = os.path.join(SOURCE_DIR, file)\n",
        "    if os.path.getsize(source_file) == 0:\n",
        "      print(f\"{file} is zero length, so ignoring.\")\n",
        "      continue\n",
        "    if i < num_training:\n",
        "      destination_file = os.path.join(TRAINING_DIR, file)\n",
        "    else:\n",
        "      destination_file = os.path.join(VALIDATION_DIR, file)\n",
        "\n",
        "    ## Transforming a image file into a portrait.\n",
        "    cek_im = cv2.imread(source_file)\n",
        "    width, height, channel = cek_im.shape\n",
        "    im = Image.open(source_file)\n",
        "    if (width < height):\n",
        "      im = im.rotate(90, expand=True)\n",
        "    im.save(destination_file)"
      ]
    },
    {
      "cell_type": "code",
      "execution_count": 20,
      "metadata": {
        "colab": {
          "base_uri": "https://localhost:8080/"
        },
        "id": "hugwkvMWC_c_",
        "outputId": "50e080e5-e4d1-406b-de3c-d9d0de91ef2f"
      },
      "outputs": [
        {
          "output_type": "stream",
          "name": "stdout",
          "text": [
            "Original healthy's directory has 400 images\n",
            "Original miner's directory has 657 images\n",
            "\n",
            "Original phoma's directory has 484 images\n",
            "Original rust's directory has 665 images\n",
            "\n",
            "There are 360 images of healthy for training\n",
            "There are 591 images of miner for training\n",
            "There are 435 images of phoma for training\n",
            "There are 598 images of rust for training\n",
            "There are 40 images of healthy for validation\n",
            "There are 66 images of miner for validation\n",
            "There are 49 images of phoma for validation\n",
            "There are 67 images of rust for validation\n"
          ]
        }
      ],
      "source": [
        "# Define paths\n",
        "HEALTHY_SOURCE_DIR = \"/content/datasets/healthy/\"\n",
        "MINER_SOURCE_DIR = \"/content/datasets/miner/\"\n",
        "PHOMA_SOURCE_DIR = \"/content/datasets/phoma/\"\n",
        "RUST_SOURCE_DIR = \"/content/datasets/rust/\"\n",
        "MINER_2_SOURCE_DIR = \"/content/alvarole/miner_img_xml/\"\n",
        "RUST_2_SOURCE_DIR = \"/content/alvarole/rust_xml_image/\"\n",
        "\n",
        "TRAINING_DIR = \"/content/datasets/final/training/\"\n",
        "VALIDATION_DIR = \"/content/datasets/final/validation/\"\n",
        "\n",
        "TRAINING_HEALTHY_DIR = os.path.join(TRAINING_DIR, \"healthy/\")\n",
        "VALIDATION_HEALTHY_DIR = os.path.join(VALIDATION_DIR, \"healthy/\")\n",
        "\n",
        "TRAINING_MINER_DIR = os.path.join(TRAINING_DIR, \"miner/\")\n",
        "VALIDATION_MINER_DIR = os.path.join(VALIDATION_DIR, \"miner/\")\n",
        "\n",
        "TRAINING_PHOMA_DIR = os.path.join(TRAINING_DIR, \"phoma/\")\n",
        "VALIDATION_PHOMA_DIR = os.path.join(VALIDATION_DIR, \"phoma/\")\n",
        "\n",
        "TRAINING_RUST_DIR = os.path.join(TRAINING_DIR, \"rust/\")\n",
        "VALIDATION_RUST_DIR = os.path.join(VALIDATION_DIR, \"rust/\")\n",
        "\n",
        "# Empty directories in case you run this cell multiple times\n",
        "if len(os.listdir(TRAINING_HEALTHY_DIR)) > 0:\n",
        "  for file in os.scandir(TRAINING_HEALTHY_DIR):\n",
        "    os.remove(file.path)\n",
        "if len(os.listdir(TRAINING_MINER_DIR)) > 0:\n",
        "  for file in os.scandir(TRAINING_MINER_DIR):\n",
        "    os.remove(file.path)\n",
        "if len(os.listdir(TRAINING_PHOMA_DIR)) > 0:\n",
        "  for file in os.scandir(TRAINING_PHOMA_DIR):\n",
        "    os.remove(file.path)\n",
        "if len(os.listdir(TRAINING_RUST_DIR)) > 0:\n",
        "  for file in os.scandir(TRAINING_RUST_DIR):\n",
        "    os.remove(file.path)\n",
        "\n",
        "if len(os.listdir(VALIDATION_HEALTHY_DIR)) > 0:\n",
        "  for file in os.scandir(VALIDATION_HEALTHY_DIR):\n",
        "    os.remove(file.path)\n",
        "if len(os.listdir(VALIDATION_MINER_DIR)) > 0:\n",
        "  for file in os.scandir(VALIDATION_MINER_DIR):\n",
        "    os.remove(file.path)\n",
        "if len(os.listdir(VALIDATION_PHOMA_DIR)) > 0:\n",
        "  for file in os.scandir(VALIDATION_PHOMA_DIR):\n",
        "    os.remove(file.path)\n",
        "if len(os.listdir(VALIDATION_RUST_DIR)) > 0:\n",
        "  for file in os.scandir(VALIDATION_RUST_DIR):\n",
        "    os.remove(file.path)\n",
        "\n",
        "# Define proportion of images used for training\n",
        "split_size = .9\n",
        "\n",
        "# Run the function\n",
        "# NOTE: Messages about zero length images should be printed out\n",
        "split_data(HEALTHY_SOURCE_DIR, TRAINING_HEALTHY_DIR, VALIDATION_HEALTHY_DIR, split_size)\n",
        "split_data(MINER_SOURCE_DIR, TRAINING_MINER_DIR, VALIDATION_MINER_DIR, split_size)\n",
        "split_data(PHOMA_SOURCE_DIR, TRAINING_PHOMA_DIR, VALIDATION_PHOMA_DIR, split_size)\n",
        "split_data(RUST_SOURCE_DIR, TRAINING_RUST_DIR, VALIDATION_RUST_DIR, split_size)\n",
        "split_data(MINER_2_SOURCE_DIR, TRAINING_MINER_DIR, VALIDATION_MINER_DIR, split_size)\n",
        "split_data(RUST_2_SOURCE_DIR, TRAINING_RUST_DIR, VALIDATION_RUST_DIR, split_size)\n",
        "\n",
        "# Check that the number of images matches the expected output\n",
        "\n",
        "# Your function should perform copies rather than moving images so original directories should contain unchanged images\n",
        "print(f\"Original healthy's directory has {len(os.listdir(HEALTHY_SOURCE_DIR))} images\")\n",
        "print(f\"Original miner's directory has {len(os.listdir(MINER_SOURCE_DIR)) + len(os.listdir(MINER_2_SOURCE_DIR))} images\\n\")\n",
        "print(f\"Original phoma's directory has {len(os.listdir(PHOMA_SOURCE_DIR))} images\")\n",
        "print(f\"Original rust's directory has {len(os.listdir(RUST_SOURCE_DIR)) + len(os.listdir(RUST_2_SOURCE_DIR))} images\\n\")\n",
        "\n",
        "# Training and validation splits\n",
        "print(f\"There are {len(os.listdir(TRAINING_HEALTHY_DIR))} images of healthy for training\")\n",
        "print(f\"There are {len(os.listdir(TRAINING_MINER_DIR))} images of miner for training\")\n",
        "print(f\"There are {len(os.listdir(TRAINING_PHOMA_DIR))} images of phoma for training\")\n",
        "print(f\"There are {len(os.listdir(TRAINING_RUST_DIR))} images of rust for training\")\n",
        "\n",
        "print(f\"There are {len(os.listdir(VALIDATION_HEALTHY_DIR))} images of healthy for validation\")\n",
        "print(f\"There are {len(os.listdir(VALIDATION_MINER_DIR))} images of miner for validation\")\n",
        "print(f\"There are {len(os.listdir(VALIDATION_PHOMA_DIR))} images of phoma for validation\")\n",
        "print(f\"There are {len(os.listdir(VALIDATION_RUST_DIR))} images of rust for validation\")"
      ]
    },
    {
      "cell_type": "markdown",
      "metadata": {
        "id": "1_sGgNPL9CN_"
      },
      "source": [
        "# **Training Preparation**\n",
        "\n",
        "Setting up the training and validation data directories and configuring the data generator with data augmentation for the training data."
      ]
    },
    {
      "cell_type": "code",
      "execution_count": 21,
      "metadata": {
        "id": "v9ZN6mrbBqZB"
      },
      "outputs": [],
      "source": [
        "TRAIN_DIR = \"/content/datasets/final/training/\"\n",
        "VAL_DIR = \"/content/datasets/final/validation/\"\n",
        "CHANNELS = 3\n",
        "TARGET_SIZE = (224,224)\n",
        "BATCH_SIZE = 64\n",
        "EPOCHS = 10"
      ]
    },
    {
      "cell_type": "code",
      "execution_count": 22,
      "metadata": {
        "colab": {
          "base_uri": "https://localhost:8080/"
        },
        "id": "7iCv3B4c_ay5",
        "outputId": "ef972d1f-51a9-4828-8f62-176dd980d957"
      },
      "outputs": [
        {
          "output_type": "stream",
          "name": "stdout",
          "text": [
            "Found 1984 images belonging to 4 classes.\n",
            "Found 222 images belonging to 4 classes.\n"
          ]
        }
      ],
      "source": [
        "train_datagen = ImageDataGenerator(rescale=1./255,\n",
        "                                   rotation_range=20,\n",
        "                                   width_shift_range=0.2,\n",
        "                                   height_shift_range=0.2,\n",
        "                                   horizontal_flip=True)\n",
        "test_datagen = ImageDataGenerator(rescale=1./255)\n",
        "\n",
        "train_generator = train_datagen.flow_from_directory(\n",
        "        TRAIN_DIR,\n",
        "        target_size=TARGET_SIZE,\n",
        "        batch_size=BATCH_SIZE,\n",
        "        class_mode='sparse')\n",
        "\n",
        "validation_generator = test_datagen.flow_from_directory(\n",
        "        VAL_DIR,\n",
        "        target_size=TARGET_SIZE,\n",
        "        batch_size=BATCH_SIZE,\n",
        "        class_mode='sparse')"
      ]
    },
    {
      "cell_type": "code",
      "execution_count": 23,
      "metadata": {
        "colab": {
          "base_uri": "https://localhost:8080/"
        },
        "id": "SRdC7tGeB7kp",
        "outputId": "e7dd4984-282b-4da4-fa48-547eecb18f00"
      },
      "outputs": [
        {
          "output_type": "execute_result",
          "data": {
            "text/plain": [
              "{'healthy': 0, 'miner': 1, 'phoma': 2, 'rust': 3}"
            ]
          },
          "metadata": {},
          "execution_count": 23
        }
      ],
      "source": [
        "train_generator.class_indices"
      ]
    },
    {
      "cell_type": "code",
      "execution_count": 24,
      "metadata": {
        "colab": {
          "base_uri": "https://localhost:8080/"
        },
        "id": "A1YOy77nCRU7",
        "outputId": "7f552b1a-dc23-4b4c-f00f-15a05195df28"
      },
      "outputs": [
        {
          "output_type": "execute_result",
          "data": {
            "text/plain": [
              "array([0, 0, 0, ..., 3, 3, 3], dtype=int32)"
            ]
          },
          "metadata": {},
          "execution_count": 24
        }
      ],
      "source": [
        "train_generator.classes"
      ]
    },
    {
      "cell_type": "code",
      "execution_count": 25,
      "metadata": {
        "colab": {
          "base_uri": "https://localhost:8080/",
          "height": 617
        },
        "id": "VAJXFeiYCUSy",
        "outputId": "ac90bc45-ac5c-4bc1-f6d1-800188e533f7"
      },
      "outputs": [
        {
          "output_type": "execute_result",
          "data": {
            "text/plain": [
              "<Axes: ylabel='count'>"
            ]
          },
          "metadata": {},
          "execution_count": 25
        },
        {
          "output_type": "display_data",
          "data": {
            "text/plain": [
              "<Figure size 1000x700 with 1 Axes>"
            ],
            "image/png": "[encoded data removed]"
          },
          "metadata": {}
        }
      ],
      "source": [
        "import matplotlib.pyplot as plt\n",
        "import seaborn as sns\n",
        "plt.figure(figsize = (10,7))\n",
        "sns.countplot(x = train_generator.classes)"
      ]
    },
    {
      "cell_type": "markdown",
      "metadata": {
        "id": "iG90yiq29k4k"
      },
      "source": [
        "# **Modelling Process and Save the model**\n",
        "\n",
        "The modelling process is the main topic of this document, as the modelling is the part where we make a new model based on the need. These are the steps in the model which will be used in the model. Save the best model into .h5 for retraining or just to load and make some predictions with the model."
      ]
    },
    {
      "cell_type": "code",
      "execution_count": 26,
      "metadata": {
        "id": "Ji5HrvcMCzv4"
      },
      "outputs": [],
      "source": [
        "pretrained_model = \"https://tfhub.dev/google/imagenet/mobilenet_v3_small_100_224/feature_vector/5\"\n",
        "\n",
        "base_model = hub.KerasLayer(\n",
        "    pretrained_model,\n",
        "    trainable = False,\n",
        ")"
      ]
    },
    {
      "cell_type": "code",
      "execution_count": 28,
      "metadata": {
        "colab": {
          "base_uri": "https://localhost:8080/"
        },
        "id": "uy21bwV5C6R5",
        "outputId": "1985c20d-2347-4e61-eb85-68265259f4a0"
      },
      "outputs": [
        {
          "output_type": "stream",
          "name": "stdout",
          "text": [
            "Model: \"sequential\"\n",
            "_________________________________________________________________\n",
            " Layer (type)                Output Shape              Param #   \n",
            "=================================================================\n",
            " keras_layer (KerasLayer)    (None, 1024)              1529968   \n",
            "                                                                 \n",
            " flatten (Flatten)           (None, 1024)              0         \n",
            "                                                                 \n",
            " dense (Dense)               (None, 4)                 4100      \n",
            "                                                                 \n",
            "=================================================================\n",
            "Total params: 1,534,068\n",
            "Trainable params: 4,100\n",
            "Non-trainable params: 1,529,968\n",
            "_________________________________________________________________\n",
            "Epoch 1/10\n",
            "31/31 [==============================] - ETA: 0s - loss: 0.9840 - accuracy: 0.6119\n",
            "Epoch 1: val_accuracy improved from -inf to 0.78829, saving model to model.h5\n",
            "31/31 [==============================] - 180s 6s/step - loss: 0.9840 - accuracy: 0.6119 - val_loss: 0.6455 - val_accuracy: 0.7883\n",
            "Epoch 2/10\n",
            "31/31 [==============================] - ETA: 0s - loss: 0.5314 - accuracy: 0.8493\n",
            "Epoch 2: val_accuracy improved from 0.78829 to 0.84234, saving model to model.h5\n",
            "31/31 [==============================] - 171s 6s/step - loss: 0.5314 - accuracy: 0.8493 - val_loss: 0.4569 - val_accuracy: 0.8423\n",
            "Epoch 3/10\n",
            "31/31 [==============================] - ETA: 0s - loss: 0.3927 - accuracy: 0.9052\n",
            "Epoch 3: val_accuracy improved from 0.84234 to 0.86937, saving model to model.h5\n",
            "31/31 [==============================] - 171s 6s/step - loss: 0.3927 - accuracy: 0.9052 - val_loss: 0.3691 - val_accuracy: 0.8694\n",
            "Epoch 4/10\n",
            "31/31 [==============================] - ETA: 0s - loss: 0.3216 - accuracy: 0.9204\n",
            "Epoch 4: val_accuracy improved from 0.86937 to 0.90541, saving model to model.h5\n",
            "31/31 [==============================] - 179s 6s/step - loss: 0.3216 - accuracy: 0.9204 - val_loss: 0.3151 - val_accuracy: 0.9054\n",
            "Epoch 5/10\n",
            "31/31 [==============================] - ETA: 0s - loss: 0.2806 - accuracy: 0.9325\n",
            "Epoch 5: val_accuracy improved from 0.90541 to 0.90991, saving model to model.h5\n",
            "31/31 [==============================] - 178s 6s/step - loss: 0.2806 - accuracy: 0.9325 - val_loss: 0.2836 - val_accuracy: 0.9099\n",
            "Epoch 6/10\n",
            "31/31 [==============================] - ETA: 0s - loss: 0.2403 - accuracy: 0.9441\n",
            "Epoch 6: val_accuracy improved from 0.90991 to 0.92793, saving model to model.h5\n",
            "31/31 [==============================] - 177s 6s/step - loss: 0.2403 - accuracy: 0.9441 - val_loss: 0.2427 - val_accuracy: 0.9279\n",
            "Epoch 7/10\n",
            "31/31 [==============================] - ETA: 0s - loss: 0.2211 - accuracy: 0.9451\n",
            "Epoch 7: val_accuracy did not improve from 0.92793\n",
            "31/31 [==============================] - 174s 6s/step - loss: 0.2211 - accuracy: 0.9451 - val_loss: 0.2276 - val_accuracy: 0.9234\n",
            "Epoch 8/10\n",
            "31/31 [==============================] - ETA: 0s - loss: 0.2078 - accuracy: 0.9511\n",
            "Epoch 8: val_accuracy did not improve from 0.92793\n",
            "31/31 [==============================] - 187s 6s/step - loss: 0.2078 - accuracy: 0.9511 - val_loss: 0.2233 - val_accuracy: 0.9279\n"
          ]
        }
      ],
      "source": [
        "model = tf.keras.Sequential([\n",
        "                            base_model,\n",
        "                            tf.keras.layers.Flatten(),\n",
        "                            tf.keras.layers.Dense(4, activation = 'softmax')\n",
        "])\n",
        "model.build([None, 224, 224, 3])\n",
        "\n",
        "model.summary()\n",
        "\n",
        "model.compile(\n",
        "    optimizer = tf.keras.optimizers.Adam(learning_rate=0.001),\n",
        "    loss = tf.keras.losses.SparseCategoricalCrossentropy(from_logits = False),\n",
        "    metrics = ['accuracy']\n",
        ")\n",
        "\n",
        "callbacks = [\n",
        "             EarlyStopping(monitor = \"val_accuracy\", patience = 2),\n",
        "             ModelCheckpoint(\"model.h5\",monitor = 'val_accuracy', verbose = 1, save_best_only = True)\n",
        "             ]\n",
        "\n",
        "history = model.fit(train_generator,\n",
        "          epochs = 10,\n",
        "          batch_size = BATCH_SIZE,\n",
        "          validation_data = validation_generator,\n",
        "          verbose = 1,\n",
        "          callbacks = callbacks)"
      ]
    },
    {
      "cell_type": "code",
      "execution_count": 29,
      "metadata": {
        "colab": {
          "base_uri": "https://localhost:8080/"
        },
        "id": "rgOTTMfdDUiF",
        "outputId": "c18e8ce8-7aae-4390-ff52-38d008e9b934"
      },
      "outputs": [
        {
          "output_type": "execute_result",
          "data": {
            "text/plain": [
              "dict_keys(['loss', 'accuracy', 'val_loss', 'val_accuracy'])"
            ]
          },
          "metadata": {},
          "execution_count": 29
        }
      ],
      "source": [
        "history.history.keys()"
      ]
    },
    {
      "cell_type": "markdown",
      "metadata": {
        "id": "5eUjTFdlJL_7"
      },
      "source": [
        "## **Evaluating**\n",
        "\n",
        "The evaluation process is the last process in this document. This evaluation process aims to evaluate how the model works, and how the model converges through each epoch. There are to graphs going to be made, the accuracy plot, and the loss plot."
      ]
    },
    {
      "cell_type": "code",
      "execution_count": 30,
      "metadata": {
        "id": "EhwRPgSSLAoS"
      },
      "outputs": [],
      "source": [
        "acc = history.history['accuracy']\n",
        "loss = history.history['loss']\n",
        "\n",
        "val_acc = history.history['val_accuracy']\n",
        "val_loss = history.history['val_loss']"
      ]
    },
    {
      "cell_type": "code",
      "execution_count": 32,
      "metadata": {
        "colab": {
          "base_uri": "https://localhost:8080/",
          "height": 417
        },
        "id": "5bqrfJdZLC2u",
        "outputId": "b29ed62a-c518-4dd1-d4a9-6dcf34cdb8d4"
      },
      "outputs": [
        {
          "output_type": "execute_result",
          "data": {
            "text/plain": [
              "Text(0.5, 1.0, 'Training and Validation Loss')"
            ]
          },
          "metadata": {},
          "execution_count": 32
        },
        {
          "output_type": "display_data",
          "data": {
            "text/plain": [
              "<Figure size 2000x700 with 2 Axes>"
            ],
            "image/png": "[encoded data removed]"
          },
          "metadata": {}
        }
      ],
      "source": [
        "plt.figure(figsize=(20,7))\n",
        "plt.subplot(1, 2, 1)\n",
        "plt.plot(range(8), acc, label = 'Training Accuracy')\n",
        "plt.plot(range(8), val_acc, label = 'Validation Accuracy')\n",
        "plt.legend(loc = 'lower right')\n",
        "plt.title('Training and Validation Accuracy')\n",
        "\n",
        "plt.subplot(1, 2, 2)\n",
        "plt.plot(range(8), val_loss, label = 'Validation Loss')\n",
        "plt.plot(range(8), loss, label = 'Training Loss')\n",
        "plt.legend(loc = 'upper right')\n",
        "plt.title('Training and Validation Loss')"
      ]
    },
    {
      "cell_type": "markdown",
      "metadata": {
        "id": "ANypcpHCYbZJ"
      },
      "source": [
        "EOF\n",
        "---"
      ]
    }
  ],
  "metadata": {
    "colab": {
      "collapsed_sections": [
        "_FMa0K1iT7oK",
        "4O-mlsw9n46n",
        "haPJYS8Tn7oc",
        "XEeKcFKlofG8",
        "1_sGgNPL9CN_",
        "iG90yiq29k4k"
      ],
      "provenance": []
    },
    "kernelspec": {
      "display_name": "Python 3",
      "name": "python3"
    },
    "language_info": {
      "name": "python"
    }
  },
  "nbformat": 4,
  "nbformat_minor": 0
}